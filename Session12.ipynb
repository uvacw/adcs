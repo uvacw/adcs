{
 "cells": [
  {
   "cell_type": "markdown",
   "id": "010677ef",
   "metadata": {},
   "source": [
    "# Session 12\n",
    "\n",
    "Creating the dataset for analysis.\n",
    "\n",
    "*Note: sections of this code were created with the help of Co-Pilot*"
   ]
  },
  {
   "cell_type": "code",
   "execution_count": null,
   "id": "6e239895",
   "metadata": {},
   "outputs": [],
   "source": [
    "import pandas as pd"
   ]
  },
  {
   "cell_type": "markdown",
   "id": "1f0e9bd2",
   "metadata": {},
   "source": [
    "This code assumes you have the watch history details (see Session 8), including the YouTube Data Tools data integrated to your dataset."
   ]
  },
  {
   "cell_type": "code",
   "execution_count": null,
   "id": "e68992cd",
   "metadata": {},
   "outputs": [],
   "source": [
    "watch_history_details = pd.read_excel('watch_history_details.xlsx')"
   ]
  },
  {
   "cell_type": "code",
   "execution_count": null,
   "id": "cbf32d0e",
   "metadata": {},
   "outputs": [],
   "source": [
    "watch_history_details"
   ]
  },
  {
   "cell_type": "code",
   "execution_count": null,
   "id": "f4703c8c",
   "metadata": {},
   "outputs": [],
   "source": [
    "watch_history_details.columns"
   ]
  },
  {
   "cell_type": "markdown",
   "id": "bdb55f08",
   "metadata": {},
   "source": [
    "Let's assume I want to create a variable (per user) based on the videoCategoryLabel"
   ]
  },
  {
   "cell_type": "code",
   "execution_count": null,
   "id": "40917cf4",
   "metadata": {},
   "outputs": [],
   "source": [
    "watch_history_details['videoCategoryLabel'].value_counts()"
   ]
  },
  {
   "cell_type": "markdown",
   "id": "de096a1d",
   "metadata": {},
   "source": [
    "Code to create a variable based on the values of the category column."
   ]
  },
  {
   "cell_type": "code",
   "execution_count": null,
   "id": "b23a155c",
   "metadata": {},
   "outputs": [],
   "source": [
    "def categorise_categories(text, list_of_categories):\n",
    "    list_of_categories = [str(item).lower() for item in list_of_categories]\n",
    "    if str(text).lower() in list_of_categories:\n",
    "        return 1\n",
    "    return 0"
   ]
  },
  {
   "cell_type": "code",
   "execution_count": null,
   "id": "8fa6dce6",
   "metadata": {},
   "outputs": [],
   "source": [
    "watch_history_details['leisure'] = watch_history_details['videoCategoryLabel'].apply(categorise_categories, \n",
    "                                                               args=[['Entertainment', 'Music', 'Gaming'],] )"
   ]
  },
  {
   "cell_type": "code",
   "execution_count": null,
   "id": "35d8a484",
   "metadata": {},
   "outputs": [],
   "source": [
    "watch_history_details['sports'] = watch_history_details['videoCategoryLabel'].apply(categorise_categories, \n",
    "                                                               args=[['Sports'],] )"
   ]
  },
  {
   "cell_type": "code",
   "execution_count": null,
   "id": "3acdf444",
   "metadata": {},
   "outputs": [],
   "source": [
    "watch_history_details"
   ]
  },
  {
   "cell_type": "code",
   "execution_count": null,
   "id": "bb051eaf",
   "metadata": {},
   "outputs": [],
   "source": [
    "leisure_sum = watch_history_details.groupby(['participantid'])['leisure'].sum()"
   ]
  },
  {
   "cell_type": "code",
   "execution_count": null,
   "id": "f0e8f272",
   "metadata": {},
   "outputs": [],
   "source": [
    "leisure_sum"
   ]
  },
  {
   "cell_type": "code",
   "execution_count": null,
   "id": "e3ecbd83",
   "metadata": {},
   "outputs": [],
   "source": [
    "leisure_sum = leisure_sum.reset_index().rename(columns={'leisure': 'total_leisure'})"
   ]
  },
  {
   "cell_type": "code",
   "execution_count": null,
   "id": "cad8a660",
   "metadata": {},
   "outputs": [],
   "source": [
    "leisure_sum"
   ]
  },
  {
   "cell_type": "code",
   "execution_count": null,
   "id": "6b28c70d",
   "metadata": {},
   "outputs": [],
   "source": [
    "sport_mean = watch_history_details.groupby(['participantid'])['sports'].mean()"
   ]
  },
  {
   "cell_type": "code",
   "execution_count": null,
   "id": "bd7442c4",
   "metadata": {},
   "outputs": [],
   "source": [
    "sport_mean"
   ]
  },
  {
   "cell_type": "code",
   "execution_count": null,
   "id": "ec24335d",
   "metadata": {},
   "outputs": [],
   "source": [
    "sport_mean = sport_mean.reset_index().rename(columns={'sports': 'mean_sport'})"
   ]
  },
  {
   "cell_type": "code",
   "execution_count": null,
   "id": "69b3443e",
   "metadata": {},
   "outputs": [],
   "source": [
    "sport_mean"
   ]
  },
  {
   "cell_type": "code",
   "execution_count": null,
   "id": "63b07e7b",
   "metadata": {},
   "outputs": [],
   "source": [
    "sport_watched = watch_history_details.groupby(['participantid'])['sports'].max()"
   ]
  },
  {
   "cell_type": "code",
   "execution_count": null,
   "id": "592f7e6d",
   "metadata": {},
   "outputs": [],
   "source": [
    "sport_watched = sport_watched.reset_index().rename(columns={'sports': 'sport_watched'})"
   ]
  },
  {
   "cell_type": "code",
   "execution_count": null,
   "id": "11a34ddf",
   "metadata": {},
   "outputs": [],
   "source": [
    "sport_watched"
   ]
  },
  {
   "cell_type": "markdown",
   "id": "3e8f095a",
   "metadata": {},
   "source": [
    "Consolidating with Self-Reports"
   ]
  },
  {
   "cell_type": "code",
   "execution_count": null,
   "id": "8d18cf37",
   "metadata": {},
   "outputs": [],
   "source": [
    "self_reports = pd.read_excel('DCS+Group+2_October+8,+2025_14.26.xlsx', skiprows=[1])"
   ]
  },
  {
   "cell_type": "markdown",
   "id": "e842a1fd",
   "metadata": {},
   "source": []
  },
  {
   "cell_type": "code",
   "execution_count": null,
   "id": "4951ea3b",
   "metadata": {},
   "outputs": [],
   "source": [
    "self_reports"
   ]
  },
  {
   "cell_type": "code",
   "execution_count": null,
   "id": "cfb085b4",
   "metadata": {},
   "outputs": [],
   "source": [
    "def extract_participant_id(text):\n",
    "    text = text.split('_')\n",
    "    if len(text) > 2:\n",
    "        return text[2]\n",
    "    return None"
   ]
  },
  {
   "cell_type": "code",
   "execution_count": null,
   "id": "d92e5c11",
   "metadata": {},
   "outputs": [],
   "source": [
    "self_reports['participantid'] = self_reports['participant'].apply(extract_participant_id)"
   ]
  },
  {
   "cell_type": "code",
   "execution_count": null,
   "id": "340fee3b",
   "metadata": {},
   "outputs": [],
   "source": [
    "self_reports"
   ]
  },
  {
   "cell_type": "code",
   "execution_count": null,
   "id": "cc6a4bf7",
   "metadata": {},
   "outputs": [],
   "source": [
    "self_reports['participantid'] = self_reports['participantid'].astype(int)"
   ]
  },
  {
   "cell_type": "code",
   "execution_count": null,
   "id": "1eebd6db",
   "metadata": {},
   "outputs": [],
   "source": [
    "self_reports['participantid']"
   ]
  },
  {
   "cell_type": "code",
   "execution_count": null,
   "id": "17398cf8",
   "metadata": {},
   "outputs": [],
   "source": [
    "dataset = pd.merge(self_reports, leisure_sum, on='participantid', how='left')"
   ]
  },
  {
   "cell_type": "code",
   "execution_count": null,
   "id": "e81897ce",
   "metadata": {},
   "outputs": [],
   "source": [
    "dataset"
   ]
  },
  {
   "cell_type": "code",
   "execution_count": null,
   "id": "637a5652",
   "metadata": {},
   "outputs": [],
   "source": [
    "dataset = pd.merge(dataset, sport_mean, on='participantid', how='left')"
   ]
  },
  {
   "cell_type": "code",
   "execution_count": null,
   "id": "0345eadc",
   "metadata": {},
   "outputs": [],
   "source": [
    "dataset = pd.merge(dataset, sport_watched, on='participantid', how='left')"
   ]
  },
  {
   "cell_type": "code",
   "execution_count": null,
   "id": "1e70fb17",
   "metadata": {},
   "outputs": [],
   "source": [
    "dataset"
   ]
  },
  {
   "cell_type": "code",
   "execution_count": null,
   "id": "45825ecc",
   "metadata": {},
   "outputs": [],
   "source": [
    "dataset.to_excel('dataset_for_analysis.xlsx', index=False)"
   ]
  },
  {
   "cell_type": "code",
   "execution_count": null,
   "id": "dcebac20",
   "metadata": {},
   "outputs": [],
   "source": []
  },
  {
   "cell_type": "markdown",
   "id": "97b65972",
   "metadata": {},
   "source": []
  }
 ],
 "metadata": {
  "kernelspec": {
   "display_name": "base",
   "language": "python",
   "name": "python3"
  },
  "language_info": {
   "codemirror_mode": {
    "name": "ipython",
    "version": 3
   },
   "file_extension": ".py",
   "mimetype": "text/x-python",
   "name": "python",
   "nbconvert_exporter": "python",
   "pygments_lexer": "ipython3",
   "version": "3.12.7"
  }
 },
 "nbformat": 4,
 "nbformat_minor": 5
}

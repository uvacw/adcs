{
 "cells": [
  {
   "cell_type": "markdown",
   "id": "0a975a79",
   "metadata": {},
   "source": [
    "# Applied Digital Citizen Science\n",
    "## Session 2\n",
    "\n",
    "Example code for Python."
   ]
  },
  {
   "cell_type": "code",
   "execution_count": null,
   "id": "bf57904f",
   "metadata": {},
   "outputs": [],
   "source": [
    "print(\"This is code\")"
   ]
  },
  {
   "cell_type": "markdown",
   "id": "3ac7a036",
   "metadata": {},
   "source": [
    "## Extra code\n",
    "\n",
    "A part of this code will be discussed on Session 4."
   ]
  },
  {
   "cell_type": "code",
   "execution_count": null,
   "id": "7d643f9c",
   "metadata": {},
   "outputs": [],
   "source": [
    "import json"
   ]
  },
  {
   "cell_type": "markdown",
   "id": "676eac9d",
   "metadata": {},
   "source": [
    "The code below loads an sample file with Chrome history (note: the data is not from a real user)"
   ]
  },
  {
   "cell_type": "code",
   "execution_count": null,
   "id": "a84e007d",
   "metadata": {},
   "outputs": [],
   "source": [
    "data = json.load(open('../../LocalFiles/History.json'))"
   ]
  },
  {
   "cell_type": "code",
   "execution_count": null,
   "id": "86e26a42",
   "metadata": {},
   "outputs": [],
   "source": [
    "data.keys()"
   ]
  },
  {
   "cell_type": "code",
   "execution_count": null,
   "id": "ecf72a6d",
   "metadata": {},
   "outputs": [],
   "source": [
    "data['Browser History']"
   ]
  },
  {
   "cell_type": "code",
   "execution_count": null,
   "id": "cfcafede",
   "metadata": {},
   "outputs": [],
   "source": [
    "import pandas as pd"
   ]
  },
  {
   "cell_type": "code",
   "execution_count": null,
   "id": "f343caf0",
   "metadata": {},
   "outputs": [],
   "source": [
    "history = pd.DataFrame(data['Browser History'])"
   ]
  },
  {
   "cell_type": "code",
   "execution_count": null,
   "id": "1e72170c",
   "metadata": {},
   "outputs": [],
   "source": [
    "history"
   ]
  },
  {
   "cell_type": "code",
   "execution_count": null,
   "id": "df4203a9",
   "metadata": {},
   "outputs": [],
   "source": [
    "len(history)"
   ]
  },
  {
   "cell_type": "code",
   "execution_count": null,
   "id": "8957e632",
   "metadata": {},
   "outputs": [],
   "source": [
    "import tldextract\n",
    "def extract_domain(url):\n",
    "    result = tldextract.extract(url)\n",
    "    return result.domain"
   ]
  },
  {
   "cell_type": "code",
   "execution_count": null,
   "id": "8395525e",
   "metadata": {},
   "outputs": [],
   "source": [
    "history['domain'] = history['url'].apply(extract_domain)"
   ]
  },
  {
   "cell_type": "code",
   "execution_count": null,
   "id": "54f80f72",
   "metadata": {},
   "outputs": [],
   "source": [
    "history"
   ]
  },
  {
   "cell_type": "code",
   "execution_count": null,
   "id": "a5a3b22c",
   "metadata": {},
   "outputs": [],
   "source": [
    "history['domain'].value_counts()"
   ]
  },
  {
   "cell_type": "code",
   "execution_count": null,
   "id": "ed6f48e7",
   "metadata": {},
   "outputs": [],
   "source": []
  }
 ],
 "metadata": {
  "kernelspec": {
   "display_name": "base",
   "language": "python",
   "name": "python3"
  },
  "language_info": {
   "codemirror_mode": {
    "name": "ipython",
    "version": 3
   },
   "file_extension": ".py",
   "mimetype": "text/x-python",
   "name": "python",
   "nbconvert_exporter": "python",
   "pygments_lexer": "ipython3",
   "version": "3.12.7"
  }
 },
 "nbformat": 4,
 "nbformat_minor": 5
}

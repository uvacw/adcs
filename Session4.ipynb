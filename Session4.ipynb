{
 "cells": [
  {
   "cell_type": "markdown",
   "id": "0a975a79",
   "metadata": {},
   "source": [
    "# Applied Digital Citizen Science\n",
    "## Session 4\n",
    "\n",
    "DISCLOSURE: Parts of the code for this notebook were created with GitHub CoPilot, and disclosed as such. All code has been tested by the lecturers.\n",
    "\n",
    "\n",
    "**GENERATIVE AI GUIDELINES:**\n",
    "1. For your assignments, you are allowed to use generative AI (e.g., CoPilot, ChatGPT, or UvA AI Chat) to create code. \n",
    "2. You are allowed to upload the (persona) data to the UvA AI Chat. You are **NOT allowed** to upload data to external generative AI services (e.g., CoPilot, ChatGPT or any other generative AI services).\n",
    "3. You are responsible for testing all the code that you use, and are ultimately responsible for its functioning.\n",
    "4. You must disclose when you use Generative AI for coding, by including a Markdown note for this before *every* cell that uses Generative AI. (So multiple times, if needed, on the same notebook)\n",
    "5. You **cannot** use any type of Generative AI (including UvA AI Chat) in any written part of any assignments (except for the Python code) in this course."
   ]
  },
  {
   "cell_type": "markdown",
   "id": "e2bca0b3",
   "metadata": {},
   "source": [
    "## Starting up - Recap of the previous session\n",
    "\n",
    "Challlenges from the previous week:\n",
    "1. Run Python on Vscode\n",
    "2. Create a new Jupyter notebook\n",
    "3. Run a code to calculate something\n",
    "4. Print some text in your notebook\n",
    "5. Create a markdown cell and write text with bold and italics\n",
    "\n",
    "*(We will do this together in class)*\n"
   ]
  },
  {
   "cell_type": "markdown",
   "id": "3ac7a036",
   "metadata": {},
   "source": [
    "## Objectives for Session 4\n",
    "\n",
    "1. Load the browser history data from your persona\n",
    "2. Generate a report of the most frequently accessed domains\n",
    "3. Convert the timestamps (\"time_usec\") into a meaningful fields\n",
    "4. If time allows: extract one video id from a YouTube URL and connect it to a YouTube Data Tool Report (i.e., data linkage)"
   ]
  },
  {
   "cell_type": "markdown",
   "id": "b8e95486",
   "metadata": {},
   "source": [
    "### 1. Loading reqired libraries\n",
    "\n",
    "Python is a general programming language, which means that in principle we can build whatever program we want with it. That, of course, is not always efficient. Imagine if you have to program everything - even how to run a correlation - from scratch. This brings us to one of its advantages: In the same way as R, there is an active community of (open source) developers and volunteers that creates Python \"extensions\" (called libraries) that allow us to reuse programs from others.\n",
    "\n",
    "We will use a few of these libraries in this course, and will get introduced to them in due time. The first one that we will start using is Pandas, a data analysis library. For more information about it, see its [documentation](https://pandas.pydata.org/)."
   ]
  },
  {
   "cell_type": "markdown",
   "id": "ac1a5e91",
   "metadata": {},
   "source": [
    "To import a library, we use the command \"import\" and the library name. Usually we also provide an abbreviation for the library name, to make us more efficient. Below we are importing Pandas, and calling it as \"pd\" from now on. We will also import the library json, which helps us handle json files. Pandas itself can handle many files that are in json, but not all of them."
   ]
  },
  {
   "cell_type": "code",
   "execution_count": null,
   "id": "663dc9d9",
   "metadata": {},
   "outputs": [],
   "source": [
    "import pandas as pd\n",
    "\n",
    "import json"
   ]
  },
  {
   "cell_type": "markdown",
   "id": "85994fb6",
   "metadata": {},
   "source": [
    "The code below is using a command inside the json library (load) to read a file. Inside it, we are using another command (open) that is native to Python, to open the file. The result of the operation is being stored in the variable called \"data\"\n",
    "\n",
    "*Please note that this is from a sample user, not a real person*"
   ]
  },
  {
   "cell_type": "code",
   "execution_count": 36,
   "id": "22ad4f70",
   "metadata": {},
   "outputs": [],
   "source": [
    "data = json.load(open('Takeout 2/Chrome/History.json'))"
   ]
  },
  {
   "cell_type": "markdown",
   "id": "482276da",
   "metadata": {},
   "source": [
    "The code below shows which keys the data has."
   ]
  },
  {
   "cell_type": "code",
   "execution_count": 37,
   "id": "86e26a42",
   "metadata": {},
   "outputs": [
    {
     "data": {
      "text/plain": [
       "dict_keys(['Browser History', 'Typed Url', 'Session', 'Shared Tab Group'])"
      ]
     },
     "execution_count": 37,
     "metadata": {},
     "output_type": "execute_result"
    }
   ],
   "source": [
    "data.keys()"
   ]
  },
  {
   "cell_type": "markdown",
   "id": "2a1ef58b",
   "metadata": {},
   "source": [
    "We want to know what is inside \"Browser History\", so we will visualise it briefly"
   ]
  },
  {
   "cell_type": "code",
   "execution_count": 66,
   "id": "ecf72a6d",
   "metadata": {},
   "outputs": [
    {
     "data": {
      "text/plain": [
       "[{'favicon_url': 'https://www.google.com/favicon.ico',\n",
       "  'page_transition_qualifier': 'CLIENT_REDIRECT',\n",
       "  'title': 'Google Takeout',\n",
       "  'url': 'https://takeout.google.com/',\n",
       "  'time_usec': 1757361757989133,\n",
       "  'client_id': '0B3RVjuLE/l8vhvu+ARWeQ=='}]"
      ]
     },
     "execution_count": 66,
     "metadata": {},
     "output_type": "execute_result"
    }
   ],
   "source": [
    "data['Browser History'][:1]"
   ]
  },
  {
   "cell_type": "markdown",
   "id": "f7b9e0f3",
   "metadata": {},
   "source": [
    "Now we are converting only the Browser History data into a dataframe."
   ]
  },
  {
   "cell_type": "code",
   "execution_count": 39,
   "id": "f343caf0",
   "metadata": {},
   "outputs": [],
   "source": [
    "history = pd.DataFrame(data['Browser History'])"
   ]
  },
  {
   "cell_type": "code",
   "execution_count": 65,
   "id": "1e72170c",
   "metadata": {},
   "outputs": [
    {
     "data": {
      "text/html": [
       "<div>\n",
       "<style scoped>\n",
       "    .dataframe tbody tr th:only-of-type {\n",
       "        vertical-align: middle;\n",
       "    }\n",
       "\n",
       "    .dataframe tbody tr th {\n",
       "        vertical-align: top;\n",
       "    }\n",
       "\n",
       "    .dataframe thead th {\n",
       "        text-align: right;\n",
       "    }\n",
       "</style>\n",
       "<table border=\"1\" class=\"dataframe\">\n",
       "  <thead>\n",
       "    <tr style=\"text-align: right;\">\n",
       "      <th></th>\n",
       "      <th>favicon_url</th>\n",
       "      <th>page_transition_qualifier</th>\n",
       "      <th>title</th>\n",
       "      <th>url</th>\n",
       "      <th>time_usec</th>\n",
       "      <th>client_id</th>\n",
       "      <th>domain</th>\n",
       "      <th>date_time</th>\n",
       "      <th>youtube_video_id</th>\n",
       "    </tr>\n",
       "  </thead>\n",
       "  <tbody>\n",
       "    <tr>\n",
       "      <th>0</th>\n",
       "      <td>https://www.google.com/favicon.ico</td>\n",
       "      <td>CLIENT_REDIRECT</td>\n",
       "      <td>Google Takeout</td>\n",
       "      <td>https://takeout.google.com/</td>\n",
       "      <td>1757361757989133</td>\n",
       "      <td>0B3RVjuLE/l8vhvu+ARWeQ==</td>\n",
       "      <td>google</td>\n",
       "      <td>2025-09-08 20:02:37.989133+00:00</td>\n",
       "      <td>None</td>\n",
       "    </tr>\n",
       "    <tr>\n",
       "      <th>1</th>\n",
       "      <td>https://www.google.com/favicon.ico</td>\n",
       "      <td>CLIENT_REDIRECT</td>\n",
       "      <td>Google Takeout</td>\n",
       "      <td>https://takeout.google.com/manage</td>\n",
       "      <td>1757361755710235</td>\n",
       "      <td>0B3RVjuLE/l8vhvu+ARWeQ==</td>\n",
       "      <td>google</td>\n",
       "      <td>2025-09-08 20:02:35.710235+00:00</td>\n",
       "      <td>None</td>\n",
       "    </tr>\n",
       "    <tr>\n",
       "      <th>2</th>\n",
       "      <td>https://www.google.com/favicon.ico</td>\n",
       "      <td>CLIENT_REDIRECT</td>\n",
       "      <td>Google Takeout</td>\n",
       "      <td>https://takeout.google.com/</td>\n",
       "      <td>1757361749586885</td>\n",
       "      <td>0B3RVjuLE/l8vhvu+ARWeQ==</td>\n",
       "      <td>google</td>\n",
       "      <td>2025-09-08 20:02:29.586885+00:00</td>\n",
       "      <td>None</td>\n",
       "    </tr>\n",
       "  </tbody>\n",
       "</table>\n",
       "</div>"
      ],
      "text/plain": [
       "                          favicon_url page_transition_qualifier  \\\n",
       "0  https://www.google.com/favicon.ico           CLIENT_REDIRECT   \n",
       "1  https://www.google.com/favicon.ico           CLIENT_REDIRECT   \n",
       "2  https://www.google.com/favicon.ico           CLIENT_REDIRECT   \n",
       "\n",
       "            title                                url         time_usec  \\\n",
       "0  Google Takeout        https://takeout.google.com/  1757361757989133   \n",
       "1  Google Takeout  https://takeout.google.com/manage  1757361755710235   \n",
       "2  Google Takeout        https://takeout.google.com/  1757361749586885   \n",
       "\n",
       "                  client_id  domain                        date_time  \\\n",
       "0  0B3RVjuLE/l8vhvu+ARWeQ==  google 2025-09-08 20:02:37.989133+00:00   \n",
       "1  0B3RVjuLE/l8vhvu+ARWeQ==  google 2025-09-08 20:02:35.710235+00:00   \n",
       "2  0B3RVjuLE/l8vhvu+ARWeQ==  google 2025-09-08 20:02:29.586885+00:00   \n",
       "\n",
       "  youtube_video_id  \n",
       "0             None  \n",
       "1             None  \n",
       "2             None  "
      ]
     },
     "execution_count": 65,
     "metadata": {},
     "output_type": "execute_result"
    }
   ],
   "source": [
    "history[:3]"
   ]
  },
  {
   "cell_type": "code",
   "execution_count": 41,
   "id": "df4203a9",
   "metadata": {},
   "outputs": [
    {
     "data": {
      "text/plain": [
       "46"
      ]
     },
     "execution_count": 41,
     "metadata": {},
     "output_type": "execute_result"
    }
   ],
   "source": [
    "len(history)"
   ]
  },
  {
   "cell_type": "markdown",
   "id": "2ebad191",
   "metadata": {},
   "source": [
    "History is interesting, but not particularly useful. Let's see a few functions that we can use to make it more useful."
   ]
  },
  {
   "cell_type": "markdown",
   "id": "100d94ab",
   "metadata": {},
   "source": [
    "First, let's extract the domain."
   ]
  },
  {
   "cell_type": "code",
   "execution_count": 42,
   "id": "bf319720",
   "metadata": {},
   "outputs": [
    {
     "name": "stdout",
     "output_type": "stream",
     "text": [
      "Requirement already satisfied: tldextract in /Users/theoaraujo/miniconda3/lib/python3.11/site-packages (5.3.0)\n",
      "Requirement already satisfied: idna in /Users/theoaraujo/miniconda3/lib/python3.11/site-packages (from tldextract) (3.4)\n",
      "Requirement already satisfied: requests>=2.1.0 in /Users/theoaraujo/miniconda3/lib/python3.11/site-packages (from tldextract) (2.31.0)\n",
      "Requirement already satisfied: requests-file>=1.4 in /Users/theoaraujo/miniconda3/lib/python3.11/site-packages (from tldextract) (2.1.0)\n",
      "Requirement already satisfied: filelock>=3.0.8 in /Users/theoaraujo/miniconda3/lib/python3.11/site-packages (from tldextract) (3.13.1)\n",
      "Requirement already satisfied: charset-normalizer<4,>=2 in /Users/theoaraujo/miniconda3/lib/python3.11/site-packages (from requests>=2.1.0->tldextract) (2.0.4)\n",
      "Requirement already satisfied: urllib3<3,>=1.21.1 in /Users/theoaraujo/miniconda3/lib/python3.11/site-packages (from requests>=2.1.0->tldextract) (1.26.18)\n",
      "Requirement already satisfied: certifi>=2017.4.17 in /Users/theoaraujo/miniconda3/lib/python3.11/site-packages (from requests>=2.1.0->tldextract) (2024.8.30)\n"
     ]
    }
   ],
   "source": [
    "# If you don't have tldextract installed, run the command below to install it.\n",
    "!pip install tldextract"
   ]
  },
  {
   "cell_type": "code",
   "execution_count": 43,
   "id": "8957e632",
   "metadata": {},
   "outputs": [],
   "source": [
    "import tldextract\n",
    "def extract_domain(url):\n",
    "    result = tldextract.extract(url)\n",
    "    return result.domain"
   ]
  },
  {
   "cell_type": "markdown",
   "id": "fc9bc11d",
   "metadata": {},
   "source": [
    "The code below creates a new column called \"domain\" in the dataframe history, by applying the function \"extract_domain\" to the column \"url\""
   ]
  },
  {
   "cell_type": "code",
   "execution_count": 44,
   "id": "8395525e",
   "metadata": {},
   "outputs": [],
   "source": [
    "history['domain'] = history['url'].apply(extract_domain)"
   ]
  },
  {
   "cell_type": "code",
   "execution_count": 64,
   "id": "54f80f72",
   "metadata": {},
   "outputs": [
    {
     "data": {
      "text/html": [
       "<div>\n",
       "<style scoped>\n",
       "    .dataframe tbody tr th:only-of-type {\n",
       "        vertical-align: middle;\n",
       "    }\n",
       "\n",
       "    .dataframe tbody tr th {\n",
       "        vertical-align: top;\n",
       "    }\n",
       "\n",
       "    .dataframe thead th {\n",
       "        text-align: right;\n",
       "    }\n",
       "</style>\n",
       "<table border=\"1\" class=\"dataframe\">\n",
       "  <thead>\n",
       "    <tr style=\"text-align: right;\">\n",
       "      <th></th>\n",
       "      <th>favicon_url</th>\n",
       "      <th>page_transition_qualifier</th>\n",
       "      <th>title</th>\n",
       "      <th>url</th>\n",
       "      <th>time_usec</th>\n",
       "      <th>client_id</th>\n",
       "      <th>domain</th>\n",
       "      <th>date_time</th>\n",
       "      <th>youtube_video_id</th>\n",
       "    </tr>\n",
       "  </thead>\n",
       "  <tbody>\n",
       "    <tr>\n",
       "      <th>0</th>\n",
       "      <td>https://www.google.com/favicon.ico</td>\n",
       "      <td>CLIENT_REDIRECT</td>\n",
       "      <td>Google Takeout</td>\n",
       "      <td>https://takeout.google.com/</td>\n",
       "      <td>1757361757989133</td>\n",
       "      <td>0B3RVjuLE/l8vhvu+ARWeQ==</td>\n",
       "      <td>google</td>\n",
       "      <td>2025-09-08 20:02:37.989133+00:00</td>\n",
       "      <td>None</td>\n",
       "    </tr>\n",
       "    <tr>\n",
       "      <th>1</th>\n",
       "      <td>https://www.google.com/favicon.ico</td>\n",
       "      <td>CLIENT_REDIRECT</td>\n",
       "      <td>Google Takeout</td>\n",
       "      <td>https://takeout.google.com/manage</td>\n",
       "      <td>1757361755710235</td>\n",
       "      <td>0B3RVjuLE/l8vhvu+ARWeQ==</td>\n",
       "      <td>google</td>\n",
       "      <td>2025-09-08 20:02:35.710235+00:00</td>\n",
       "      <td>None</td>\n",
       "    </tr>\n",
       "    <tr>\n",
       "      <th>2</th>\n",
       "      <td>https://www.google.com/favicon.ico</td>\n",
       "      <td>CLIENT_REDIRECT</td>\n",
       "      <td>Google Takeout</td>\n",
       "      <td>https://takeout.google.com/</td>\n",
       "      <td>1757361749586885</td>\n",
       "      <td>0B3RVjuLE/l8vhvu+ARWeQ==</td>\n",
       "      <td>google</td>\n",
       "      <td>2025-09-08 20:02:29.586885+00:00</td>\n",
       "      <td>None</td>\n",
       "    </tr>\n",
       "  </tbody>\n",
       "</table>\n",
       "</div>"
      ],
      "text/plain": [
       "                          favicon_url page_transition_qualifier  \\\n",
       "0  https://www.google.com/favicon.ico           CLIENT_REDIRECT   \n",
       "1  https://www.google.com/favicon.ico           CLIENT_REDIRECT   \n",
       "2  https://www.google.com/favicon.ico           CLIENT_REDIRECT   \n",
       "\n",
       "            title                                url         time_usec  \\\n",
       "0  Google Takeout        https://takeout.google.com/  1757361757989133   \n",
       "1  Google Takeout  https://takeout.google.com/manage  1757361755710235   \n",
       "2  Google Takeout        https://takeout.google.com/  1757361749586885   \n",
       "\n",
       "                  client_id  domain                        date_time  \\\n",
       "0  0B3RVjuLE/l8vhvu+ARWeQ==  google 2025-09-08 20:02:37.989133+00:00   \n",
       "1  0B3RVjuLE/l8vhvu+ARWeQ==  google 2025-09-08 20:02:35.710235+00:00   \n",
       "2  0B3RVjuLE/l8vhvu+ARWeQ==  google 2025-09-08 20:02:29.586885+00:00   \n",
       "\n",
       "  youtube_video_id  \n",
       "0             None  \n",
       "1             None  \n",
       "2             None  "
      ]
     },
     "execution_count": 64,
     "metadata": {},
     "output_type": "execute_result"
    }
   ],
   "source": [
    "history[:3]"
   ]
  },
  {
   "cell_type": "markdown",
   "id": "b8133e10",
   "metadata": {},
   "source": [
    "Let's check the top domains"
   ]
  },
  {
   "cell_type": "code",
   "execution_count": 46,
   "id": "a5a3b22c",
   "metadata": {},
   "outputs": [
    {
     "data": {
      "text/plain": [
       "domain\n",
       "google         21\n",
       "youtube        16\n",
       "scistarter      4\n",
       "wikipedia       3\n",
       "urbanreleaf     1\n",
       "ucdavis         1\n",
       "Name: count, dtype: int64"
      ]
     },
     "execution_count": 46,
     "metadata": {},
     "output_type": "execute_result"
    }
   ],
   "source": [
    "history['domain'].value_counts()"
   ]
  },
  {
   "cell_type": "markdown",
   "id": "a2da4b8f",
   "metadata": {},
   "source": [
    "Let's now see how we can make the time_usec column useful."
   ]
  },
  {
   "cell_type": "code",
   "execution_count": 47,
   "id": "ed6f48e7",
   "metadata": {},
   "outputs": [],
   "source": [
    "from datetime import datetime, timedelta, timezone\n",
    " \n",
    "def filetime_to_datetime(microseconds: int) -> datetime:\n",
    "    epoch_start = datetime(1970, 1, 1, tzinfo=timezone.utc)\n",
    "    return epoch_start + timedelta(microseconds=microseconds)"
   ]
  },
  {
   "cell_type": "code",
   "execution_count": 48,
   "id": "1a234793",
   "metadata": {},
   "outputs": [],
   "source": [
    "history['date_time'] = history['time_usec'].apply(filetime_to_datetime)"
   ]
  },
  {
   "cell_type": "code",
   "execution_count": 49,
   "id": "19c197ed",
   "metadata": {},
   "outputs": [
    {
     "data": {
      "text/html": [
       "<div>\n",
       "<style scoped>\n",
       "    .dataframe tbody tr th:only-of-type {\n",
       "        vertical-align: middle;\n",
       "    }\n",
       "\n",
       "    .dataframe tbody tr th {\n",
       "        vertical-align: top;\n",
       "    }\n",
       "\n",
       "    .dataframe thead th {\n",
       "        text-align: right;\n",
       "    }\n",
       "</style>\n",
       "<table border=\"1\" class=\"dataframe\">\n",
       "  <thead>\n",
       "    <tr style=\"text-align: right;\">\n",
       "      <th></th>\n",
       "      <th>favicon_url</th>\n",
       "      <th>page_transition_qualifier</th>\n",
       "      <th>title</th>\n",
       "      <th>url</th>\n",
       "      <th>time_usec</th>\n",
       "      <th>client_id</th>\n",
       "      <th>domain</th>\n",
       "      <th>date_time</th>\n",
       "    </tr>\n",
       "  </thead>\n",
       "  <tbody>\n",
       "    <tr>\n",
       "      <th>0</th>\n",
       "      <td>https://www.google.com/favicon.ico</td>\n",
       "      <td>CLIENT_REDIRECT</td>\n",
       "      <td>Google Takeout</td>\n",
       "      <td>https://takeout.google.com/</td>\n",
       "      <td>1757361757989133</td>\n",
       "      <td>0B3RVjuLE/l8vhvu+ARWeQ==</td>\n",
       "      <td>google</td>\n",
       "      <td>2025-09-08 20:02:37.989133+00:00</td>\n",
       "    </tr>\n",
       "    <tr>\n",
       "      <th>1</th>\n",
       "      <td>https://www.google.com/favicon.ico</td>\n",
       "      <td>CLIENT_REDIRECT</td>\n",
       "      <td>Google Takeout</td>\n",
       "      <td>https://takeout.google.com/manage</td>\n",
       "      <td>1757361755710235</td>\n",
       "      <td>0B3RVjuLE/l8vhvu+ARWeQ==</td>\n",
       "      <td>google</td>\n",
       "      <td>2025-09-08 20:02:35.710235+00:00</td>\n",
       "    </tr>\n",
       "    <tr>\n",
       "      <th>2</th>\n",
       "      <td>https://www.google.com/favicon.ico</td>\n",
       "      <td>CLIENT_REDIRECT</td>\n",
       "      <td>Google Takeout</td>\n",
       "      <td>https://takeout.google.com/</td>\n",
       "      <td>1757361749586885</td>\n",
       "      <td>0B3RVjuLE/l8vhvu+ARWeQ==</td>\n",
       "      <td>google</td>\n",
       "      <td>2025-09-08 20:02:29.586885+00:00</td>\n",
       "    </tr>\n",
       "  </tbody>\n",
       "</table>\n",
       "</div>"
      ],
      "text/plain": [
       "                          favicon_url page_transition_qualifier  \\\n",
       "0  https://www.google.com/favicon.ico           CLIENT_REDIRECT   \n",
       "1  https://www.google.com/favicon.ico           CLIENT_REDIRECT   \n",
       "2  https://www.google.com/favicon.ico           CLIENT_REDIRECT   \n",
       "\n",
       "            title                                url         time_usec  \\\n",
       "0  Google Takeout        https://takeout.google.com/  1757361757989133   \n",
       "1  Google Takeout  https://takeout.google.com/manage  1757361755710235   \n",
       "2  Google Takeout        https://takeout.google.com/  1757361749586885   \n",
       "\n",
       "                  client_id  domain                        date_time  \n",
       "0  0B3RVjuLE/l8vhvu+ARWeQ==  google 2025-09-08 20:02:37.989133+00:00  \n",
       "1  0B3RVjuLE/l8vhvu+ARWeQ==  google 2025-09-08 20:02:35.710235+00:00  \n",
       "2  0B3RVjuLE/l8vhvu+ARWeQ==  google 2025-09-08 20:02:29.586885+00:00  "
      ]
     },
     "execution_count": 49,
     "metadata": {},
     "output_type": "execute_result"
    }
   ],
   "source": [
    "history[:3]"
   ]
  },
  {
   "cell_type": "markdown",
   "id": "a78d3072",
   "metadata": {},
   "source": [
    "Let's extract the ids of YouTube videos in the history."
   ]
  },
  {
   "cell_type": "code",
   "execution_count": 50,
   "id": "793c02df",
   "metadata": {},
   "outputs": [
    {
     "data": {
      "text/html": [
       "<div>\n",
       "<style scoped>\n",
       "    .dataframe tbody tr th:only-of-type {\n",
       "        vertical-align: middle;\n",
       "    }\n",
       "\n",
       "    .dataframe tbody tr th {\n",
       "        vertical-align: top;\n",
       "    }\n",
       "\n",
       "    .dataframe thead th {\n",
       "        text-align: right;\n",
       "    }\n",
       "</style>\n",
       "<table border=\"1\" class=\"dataframe\">\n",
       "  <thead>\n",
       "    <tr style=\"text-align: right;\">\n",
       "      <th></th>\n",
       "      <th>favicon_url</th>\n",
       "      <th>page_transition_qualifier</th>\n",
       "      <th>title</th>\n",
       "      <th>url</th>\n",
       "      <th>time_usec</th>\n",
       "      <th>client_id</th>\n",
       "      <th>domain</th>\n",
       "      <th>date_time</th>\n",
       "    </tr>\n",
       "  </thead>\n",
       "  <tbody>\n",
       "    <tr>\n",
       "      <th>3</th>\n",
       "      <td>https://www.youtube.com/s/desktop/49e708f0/img...</td>\n",
       "      <td>CLIENT_REDIRECT</td>\n",
       "      <td>Latto, Ice Spice - GYATT (Official Music Video...</td>\n",
       "      <td>https://www.youtube.com/watch?v=h1SdotpjkTU&amp;li...</td>\n",
       "      <td>1757361745075476</td>\n",
       "      <td>0B3RVjuLE/l8vhvu+ARWeQ==</td>\n",
       "      <td>youtube</td>\n",
       "      <td>2025-09-08 20:02:25.075476+00:00</td>\n",
       "    </tr>\n",
       "    <tr>\n",
       "      <th>4</th>\n",
       "      <td>https://www.youtube.com/s/desktop/49e708f0/img...</td>\n",
       "      <td>CLIENT_REDIRECT</td>\n",
       "      <td>Shaboozey, Stephen Wilson Jr. - Took A Walk (f...</td>\n",
       "      <td>https://www.youtube.com/watch?v=xdI_3GdLt8g&amp;li...</td>\n",
       "      <td>1757361742206189</td>\n",
       "      <td>0B3RVjuLE/l8vhvu+ARWeQ==</td>\n",
       "      <td>youtube</td>\n",
       "      <td>2025-09-08 20:02:22.206189+00:00</td>\n",
       "    </tr>\n",
       "    <tr>\n",
       "      <th>5</th>\n",
       "      <td>https://www.youtube.com/s/desktop/49e708f0/img...</td>\n",
       "      <td>CLIENT_REDIRECT</td>\n",
       "      <td>Lady Gaga - The Dead Dance (Official Music Vid...</td>\n",
       "      <td>https://www.youtube.com/watch?v=xGaZBfJOyAc&amp;li...</td>\n",
       "      <td>1757361739942513</td>\n",
       "      <td>0B3RVjuLE/l8vhvu+ARWeQ==</td>\n",
       "      <td>youtube</td>\n",
       "      <td>2025-09-08 20:02:19.942513+00:00</td>\n",
       "    </tr>\n",
       "    <tr>\n",
       "      <th>6</th>\n",
       "      <td>https://www.youtube.com/s/desktop/49e708f0/img...</td>\n",
       "      <td>CLIENT_REDIRECT</td>\n",
       "      <td>Justin Bieber - LOVE SONG (Audio) - YouTube</td>\n",
       "      <td>https://www.youtube.com/watch?v=BEsAhEAjC8Y&amp;li...</td>\n",
       "      <td>1757361737374452</td>\n",
       "      <td>0B3RVjuLE/l8vhvu+ARWeQ==</td>\n",
       "      <td>youtube</td>\n",
       "      <td>2025-09-08 20:02:17.374452+00:00</td>\n",
       "    </tr>\n",
       "    <tr>\n",
       "      <th>7</th>\n",
       "      <td>https://www.youtube.com/s/desktop/49e708f0/img...</td>\n",
       "      <td>CLIENT_REDIRECT</td>\n",
       "      <td>Echo Station | Deep Sci-Fi Outpost Ambience fo...</td>\n",
       "      <td>https://www.youtube.com/playlist?list=RDCLAK5u...</td>\n",
       "      <td>1757361736578717</td>\n",
       "      <td>0B3RVjuLE/l8vhvu+ARWeQ==</td>\n",
       "      <td>youtube</td>\n",
       "      <td>2025-09-08 20:02:16.578717+00:00</td>\n",
       "    </tr>\n",
       "    <tr>\n",
       "      <th>8</th>\n",
       "      <td>https://www.youtube.com/s/desktop/49e708f0/img...</td>\n",
       "      <td>CLIENT_REDIRECT</td>\n",
       "      <td>The Music Channel - YouTube</td>\n",
       "      <td>https://www.youtube.com/channel/UC-9-kyTW8ZkZN...</td>\n",
       "      <td>1757361729056287</td>\n",
       "      <td>0B3RVjuLE/l8vhvu+ARWeQ==</td>\n",
       "      <td>youtube</td>\n",
       "      <td>2025-09-08 20:02:09.056287+00:00</td>\n",
       "    </tr>\n",
       "    <tr>\n",
       "      <th>9</th>\n",
       "      <td>https://www.youtube.com/s/desktop/49e708f0/img...</td>\n",
       "      <td>CLIENT_REDIRECT</td>\n",
       "      <td>YouTube</td>\n",
       "      <td>https://www.youtube.com/</td>\n",
       "      <td>1757361724449645</td>\n",
       "      <td>0B3RVjuLE/l8vhvu+ARWeQ==</td>\n",
       "      <td>youtube</td>\n",
       "      <td>2025-09-08 20:02:04.449645+00:00</td>\n",
       "    </tr>\n",
       "    <tr>\n",
       "      <th>10</th>\n",
       "      <td>https://www.youtube.com/s/desktop/49e708f0/img...</td>\n",
       "      <td>CLIENT_REDIRECT</td>\n",
       "      <td>Echo Station | Deep Sci-Fi Outpost Ambience fo...</td>\n",
       "      <td>https://www.youtube.com/watch?v=1fDP9T9Cagg</td>\n",
       "      <td>1757361716469736</td>\n",
       "      <td>0B3RVjuLE/l8vhvu+ARWeQ==</td>\n",
       "      <td>youtube</td>\n",
       "      <td>2025-09-08 20:01:56.469736+00:00</td>\n",
       "    </tr>\n",
       "    <tr>\n",
       "      <th>11</th>\n",
       "      <td>https://www.youtube.com/s/desktop/49e708f0/img...</td>\n",
       "      <td>CLIENT_REDIRECT</td>\n",
       "      <td>Gaming - YouTube</td>\n",
       "      <td>https://www.youtube.com/gaming</td>\n",
       "      <td>1757361709456376</td>\n",
       "      <td>0B3RVjuLE/l8vhvu+ARWeQ==</td>\n",
       "      <td>youtube</td>\n",
       "      <td>2025-09-08 20:01:49.456376+00:00</td>\n",
       "    </tr>\n",
       "    <tr>\n",
       "      <th>12</th>\n",
       "      <td>https://www.youtube.com/s/desktop/49e708f0/img...</td>\n",
       "      <td>CLIENT_REDIRECT</td>\n",
       "      <td>YouTube</td>\n",
       "      <td>https://www.youtube.com/</td>\n",
       "      <td>1757361702611504</td>\n",
       "      <td>0B3RVjuLE/l8vhvu+ARWeQ==</td>\n",
       "      <td>youtube</td>\n",
       "      <td>2025-09-08 20:01:42.611504+00:00</td>\n",
       "    </tr>\n",
       "    <tr>\n",
       "      <th>13</th>\n",
       "      <td>https://www.youtube.com/s/desktop/49e708f0/img...</td>\n",
       "      <td>CLIENT_REDIRECT</td>\n",
       "      <td>Summer Ocean Night 2025 | Slow BPM Deep House ...</td>\n",
       "      <td>https://www.youtube.com/watch?v=LxJzb61L-7U&amp;li...</td>\n",
       "      <td>1757361681877735</td>\n",
       "      <td>0B3RVjuLE/l8vhvu+ARWeQ==</td>\n",
       "      <td>youtube</td>\n",
       "      <td>2025-09-08 20:01:21.877735+00:00</td>\n",
       "    </tr>\n",
       "    <tr>\n",
       "      <th>14</th>\n",
       "      <td>https://www.youtube.com/s/desktop/49e708f0/img...</td>\n",
       "      <td>CLIENT_REDIRECT</td>\n",
       "      <td>YouTube</td>\n",
       "      <td>https://www.youtube.com/</td>\n",
       "      <td>1757361681876120</td>\n",
       "      <td>0B3RVjuLE/l8vhvu+ARWeQ==</td>\n",
       "      <td>youtube</td>\n",
       "      <td>2025-09-08 20:01:21.876120+00:00</td>\n",
       "    </tr>\n",
       "    <tr>\n",
       "      <th>15</th>\n",
       "      <td>https://www.youtube.com/s/desktop/49e708f0/img...</td>\n",
       "      <td>CLIENT_REDIRECT</td>\n",
       "      <td>YouTube</td>\n",
       "      <td>https://www.youtube.com/</td>\n",
       "      <td>1757361665316558</td>\n",
       "      <td>0B3RVjuLE/l8vhvu+ARWeQ==</td>\n",
       "      <td>youtube</td>\n",
       "      <td>2025-09-08 20:01:05.316558+00:00</td>\n",
       "    </tr>\n",
       "    <tr>\n",
       "      <th>16</th>\n",
       "      <td>https://www.youtube.com/s/desktop/68a20589/img...</td>\n",
       "      <td>CLIENT_REDIRECT</td>\n",
       "      <td>Dreamy Tropical House Mix | Best Deep House fo...</td>\n",
       "      <td>https://www.youtube.com/watch?v=w_Rj6HLtl_8&amp;li...</td>\n",
       "      <td>1756892769341635</td>\n",
       "      <td>8PR1sbT/jyxoXFov4q0UzQ==</td>\n",
       "      <td>youtube</td>\n",
       "      <td>2025-09-03 09:46:09.341635+00:00</td>\n",
       "    </tr>\n",
       "    <tr>\n",
       "      <th>17</th>\n",
       "      <td>https://www.youtube.com/s/desktop/68a20589/img...</td>\n",
       "      <td>CLIENT_REDIRECT</td>\n",
       "      <td>YouTube</td>\n",
       "      <td>https://www.youtube.com/</td>\n",
       "      <td>1756892769340309</td>\n",
       "      <td>8PR1sbT/jyxoXFov4q0UzQ==</td>\n",
       "      <td>youtube</td>\n",
       "      <td>2025-09-03 09:46:09.340309+00:00</td>\n",
       "    </tr>\n",
       "    <tr>\n",
       "      <th>18</th>\n",
       "      <td>https://www.youtube.com/s/desktop/68a20589/img...</td>\n",
       "      <td>CLIENT_REDIRECT</td>\n",
       "      <td>YouTube</td>\n",
       "      <td>https://www.youtube.com/</td>\n",
       "      <td>1756892762816996</td>\n",
       "      <td>8PR1sbT/jyxoXFov4q0UzQ==</td>\n",
       "      <td>youtube</td>\n",
       "      <td>2025-09-03 09:46:02.816996+00:00</td>\n",
       "    </tr>\n",
       "  </tbody>\n",
       "</table>\n",
       "</div>"
      ],
      "text/plain": [
       "                                          favicon_url  \\\n",
       "3   https://www.youtube.com/s/desktop/49e708f0/img...   \n",
       "4   https://www.youtube.com/s/desktop/49e708f0/img...   \n",
       "5   https://www.youtube.com/s/desktop/49e708f0/img...   \n",
       "6   https://www.youtube.com/s/desktop/49e708f0/img...   \n",
       "7   https://www.youtube.com/s/desktop/49e708f0/img...   \n",
       "8   https://www.youtube.com/s/desktop/49e708f0/img...   \n",
       "9   https://www.youtube.com/s/desktop/49e708f0/img...   \n",
       "10  https://www.youtube.com/s/desktop/49e708f0/img...   \n",
       "11  https://www.youtube.com/s/desktop/49e708f0/img...   \n",
       "12  https://www.youtube.com/s/desktop/49e708f0/img...   \n",
       "13  https://www.youtube.com/s/desktop/49e708f0/img...   \n",
       "14  https://www.youtube.com/s/desktop/49e708f0/img...   \n",
       "15  https://www.youtube.com/s/desktop/49e708f0/img...   \n",
       "16  https://www.youtube.com/s/desktop/68a20589/img...   \n",
       "17  https://www.youtube.com/s/desktop/68a20589/img...   \n",
       "18  https://www.youtube.com/s/desktop/68a20589/img...   \n",
       "\n",
       "   page_transition_qualifier  \\\n",
       "3            CLIENT_REDIRECT   \n",
       "4            CLIENT_REDIRECT   \n",
       "5            CLIENT_REDIRECT   \n",
       "6            CLIENT_REDIRECT   \n",
       "7            CLIENT_REDIRECT   \n",
       "8            CLIENT_REDIRECT   \n",
       "9            CLIENT_REDIRECT   \n",
       "10           CLIENT_REDIRECT   \n",
       "11           CLIENT_REDIRECT   \n",
       "12           CLIENT_REDIRECT   \n",
       "13           CLIENT_REDIRECT   \n",
       "14           CLIENT_REDIRECT   \n",
       "15           CLIENT_REDIRECT   \n",
       "16           CLIENT_REDIRECT   \n",
       "17           CLIENT_REDIRECT   \n",
       "18           CLIENT_REDIRECT   \n",
       "\n",
       "                                                title  \\\n",
       "3   Latto, Ice Spice - GYATT (Official Music Video...   \n",
       "4   Shaboozey, Stephen Wilson Jr. - Took A Walk (f...   \n",
       "5   Lady Gaga - The Dead Dance (Official Music Vid...   \n",
       "6         Justin Bieber - LOVE SONG (Audio) - YouTube   \n",
       "7   Echo Station | Deep Sci-Fi Outpost Ambience fo...   \n",
       "8                         The Music Channel - YouTube   \n",
       "9                                             YouTube   \n",
       "10  Echo Station | Deep Sci-Fi Outpost Ambience fo...   \n",
       "11                                   Gaming - YouTube   \n",
       "12                                            YouTube   \n",
       "13  Summer Ocean Night 2025 | Slow BPM Deep House ...   \n",
       "14                                            YouTube   \n",
       "15                                            YouTube   \n",
       "16  Dreamy Tropical House Mix | Best Deep House fo...   \n",
       "17                                            YouTube   \n",
       "18                                            YouTube   \n",
       "\n",
       "                                                  url         time_usec  \\\n",
       "3   https://www.youtube.com/watch?v=h1SdotpjkTU&li...  1757361745075476   \n",
       "4   https://www.youtube.com/watch?v=xdI_3GdLt8g&li...  1757361742206189   \n",
       "5   https://www.youtube.com/watch?v=xGaZBfJOyAc&li...  1757361739942513   \n",
       "6   https://www.youtube.com/watch?v=BEsAhEAjC8Y&li...  1757361737374452   \n",
       "7   https://www.youtube.com/playlist?list=RDCLAK5u...  1757361736578717   \n",
       "8   https://www.youtube.com/channel/UC-9-kyTW8ZkZN...  1757361729056287   \n",
       "9                            https://www.youtube.com/  1757361724449645   \n",
       "10        https://www.youtube.com/watch?v=1fDP9T9Cagg  1757361716469736   \n",
       "11                     https://www.youtube.com/gaming  1757361709456376   \n",
       "12                           https://www.youtube.com/  1757361702611504   \n",
       "13  https://www.youtube.com/watch?v=LxJzb61L-7U&li...  1757361681877735   \n",
       "14                           https://www.youtube.com/  1757361681876120   \n",
       "15                           https://www.youtube.com/  1757361665316558   \n",
       "16  https://www.youtube.com/watch?v=w_Rj6HLtl_8&li...  1756892769341635   \n",
       "17                           https://www.youtube.com/  1756892769340309   \n",
       "18                           https://www.youtube.com/  1756892762816996   \n",
       "\n",
       "                   client_id   domain                        date_time  \n",
       "3   0B3RVjuLE/l8vhvu+ARWeQ==  youtube 2025-09-08 20:02:25.075476+00:00  \n",
       "4   0B3RVjuLE/l8vhvu+ARWeQ==  youtube 2025-09-08 20:02:22.206189+00:00  \n",
       "5   0B3RVjuLE/l8vhvu+ARWeQ==  youtube 2025-09-08 20:02:19.942513+00:00  \n",
       "6   0B3RVjuLE/l8vhvu+ARWeQ==  youtube 2025-09-08 20:02:17.374452+00:00  \n",
       "7   0B3RVjuLE/l8vhvu+ARWeQ==  youtube 2025-09-08 20:02:16.578717+00:00  \n",
       "8   0B3RVjuLE/l8vhvu+ARWeQ==  youtube 2025-09-08 20:02:09.056287+00:00  \n",
       "9   0B3RVjuLE/l8vhvu+ARWeQ==  youtube 2025-09-08 20:02:04.449645+00:00  \n",
       "10  0B3RVjuLE/l8vhvu+ARWeQ==  youtube 2025-09-08 20:01:56.469736+00:00  \n",
       "11  0B3RVjuLE/l8vhvu+ARWeQ==  youtube 2025-09-08 20:01:49.456376+00:00  \n",
       "12  0B3RVjuLE/l8vhvu+ARWeQ==  youtube 2025-09-08 20:01:42.611504+00:00  \n",
       "13  0B3RVjuLE/l8vhvu+ARWeQ==  youtube 2025-09-08 20:01:21.877735+00:00  \n",
       "14  0B3RVjuLE/l8vhvu+ARWeQ==  youtube 2025-09-08 20:01:21.876120+00:00  \n",
       "15  0B3RVjuLE/l8vhvu+ARWeQ==  youtube 2025-09-08 20:01:05.316558+00:00  \n",
       "16  8PR1sbT/jyxoXFov4q0UzQ==  youtube 2025-09-03 09:46:09.341635+00:00  \n",
       "17  8PR1sbT/jyxoXFov4q0UzQ==  youtube 2025-09-03 09:46:09.340309+00:00  \n",
       "18  8PR1sbT/jyxoXFov4q0UzQ==  youtube 2025-09-03 09:46:02.816996+00:00  "
      ]
     },
     "execution_count": 50,
     "metadata": {},
     "output_type": "execute_result"
    }
   ],
   "source": [
    "history[history['domain']=='youtube']"
   ]
  },
  {
   "cell_type": "code",
   "execution_count": 54,
   "id": "93348cb3",
   "metadata": {},
   "outputs": [
    {
     "data": {
      "text/plain": [
       "'https://www.youtube.com/watch?v=BEsAhEAjC8Y&list=RDCLAK5uy_k5n4srrEB1wgvIjPNTXS9G1ufE9WQxhnA&index=2'"
      ]
     },
     "execution_count": 54,
     "metadata": {},
     "output_type": "execute_result"
    }
   ],
   "source": [
    "history[history['domain']=='youtube'].iloc[3].url"
   ]
  },
  {
   "cell_type": "markdown",
   "id": "4e550724",
   "metadata": {},
   "source": [
    "*Disclosure:* The code below was generated with the help of CoPilot."
   ]
  },
  {
   "cell_type": "code",
   "execution_count": 55,
   "id": "54f9ad15",
   "metadata": {},
   "outputs": [],
   "source": [
    "def extract_youtube_video_id(url):\n",
    "    if 'youtube.com/watch?v=' in url:\n",
    "        return url.split('v=')[1].split('&')[0]\n",
    "    elif 'youtu.be/' in url:\n",
    "        return url.split('youtu.be/')[1].split('?')[0]\n",
    "    else:\n",
    "        return None\n"
   ]
  },
  {
   "cell_type": "code",
   "execution_count": 56,
   "id": "9e00a185",
   "metadata": {},
   "outputs": [],
   "source": [
    "history['youtube_video_id'] = history['url'].apply(extract_youtube_video_id)"
   ]
  },
  {
   "cell_type": "code",
   "execution_count": 61,
   "id": "f75a7327",
   "metadata": {},
   "outputs": [
    {
     "name": "stdout",
     "output_type": "stream",
     "text": [
      "https://www.youtube.com/watch?v=h1SdotpjkTU&list=RDCLAK5uy_k5n4srrEB1wgvIjPNTXS9G1ufE9WQxhnA&index=4 h1SdotpjkTU\n",
      "https://www.youtube.com/watch?v=xdI_3GdLt8g&list=RDCLAK5uy_k5n4srrEB1wgvIjPNTXS9G1ufE9WQxhnA&index=3 xdI_3GdLt8g\n",
      "https://www.youtube.com/watch?v=xGaZBfJOyAc&list=RDCLAK5uy_k5n4srrEB1wgvIjPNTXS9G1ufE9WQxhnA&index=2 xGaZBfJOyAc\n",
      "https://www.youtube.com/watch?v=BEsAhEAjC8Y&list=RDCLAK5uy_k5n4srrEB1wgvIjPNTXS9G1ufE9WQxhnA&index=2 BEsAhEAjC8Y\n",
      "https://www.youtube.com/playlist?list=RDCLAK5uy_k5n4srrEB1wgvIjPNTXS9G1ufE9WQxhnA&playnext=1&index=1 None\n",
      "https://www.youtube.com/channel/UC-9-kyTW8ZkZNDHQJ6FgpwQ None\n",
      "https://www.youtube.com/ None\n",
      "https://www.youtube.com/watch?v=1fDP9T9Cagg 1fDP9T9Cagg\n",
      "https://www.youtube.com/gaming None\n",
      "https://www.youtube.com/ None\n",
      "https://www.youtube.com/watch?v=LxJzb61L-7U&list=RDLxJzb61L-7U&start_radio=1 LxJzb61L-7U\n",
      "https://www.youtube.com/ None\n",
      "https://www.youtube.com/ None\n",
      "https://www.youtube.com/watch?v=w_Rj6HLtl_8&list=RDw_Rj6HLtl_8&start_radio=1 w_Rj6HLtl_8\n",
      "https://www.youtube.com/ None\n",
      "https://www.youtube.com/ None\n"
     ]
    }
   ],
   "source": [
    "for url, id in history[history['domain']=='youtube'][['url','youtube_video_id']].values.tolist():\n",
    "    print(url, id)"
   ]
  },
  {
   "cell_type": "markdown",
   "id": "94a52e34",
   "metadata": {},
   "source": []
  }
 ],
 "metadata": {
  "kernelspec": {
   "display_name": "base",
   "language": "python",
   "name": "python3"
  },
  "language_info": {
   "codemirror_mode": {
    "name": "ipython",
    "version": 3
   },
   "file_extension": ".py",
   "mimetype": "text/x-python",
   "name": "python",
   "nbconvert_exporter": "python",
   "pygments_lexer": "ipython3",
   "version": "3.11.5"
  }
 },
 "nbformat": 4,
 "nbformat_minor": 5
}

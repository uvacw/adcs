{
 "cells": [
  {
   "cell_type": "markdown",
   "id": "0a975a79",
   "metadata": {},
   "source": [
    "# Applied Digital Citizen Science\n",
    "## Session 4\n",
    "\n",
    "DISCLOSURE: Parts of the code for this notebook were created with GitHub CoPilot, and disclosed as such. All code has been tested by the lecturers.\n",
    "\n",
    "See Canvas for details about usage of Generative AI in assignments"
   ]
  },
  {
   "cell_type": "markdown",
   "id": "c0d4de75",
   "metadata": {},
   "source": []
  },
  {
   "cell_type": "markdown",
   "id": "e2bca0b3",
   "metadata": {},
   "source": [
    "## Starting up - Recap of the previous session\n",
    "\n",
    "Challlenges from the previous week:\n",
    "1. Run Python on Vscode\n",
    "2. Create a new Jupyter notebook\n",
    "3. Run a code to calculate something\n",
    "4. Print some text in your notebook\n",
    "5. Create a markdown cell and write text with bold and italics\n",
    "\n",
    "*(We will do this together in class)*\n"
   ]
  },
  {
   "cell_type": "code",
   "execution_count": null,
   "id": "20771014",
   "metadata": {},
   "outputs": [],
   "source": [
    "2 + 2"
   ]
  },
  {
   "cell_type": "code",
   "execution_count": null,
   "id": "237bb0db",
   "metadata": {},
   "outputs": [],
   "source": [
    "a = 1 + 2"
   ]
  },
  {
   "cell_type": "code",
   "execution_count": null,
   "id": "6668369c",
   "metadata": {},
   "outputs": [],
   "source": [
    "print(a)"
   ]
  },
  {
   "cell_type": "code",
   "execution_count": null,
   "id": "f3aa4d0e",
   "metadata": {},
   "outputs": [],
   "source": [
    "b = a + 100"
   ]
  },
  {
   "cell_type": "code",
   "execution_count": null,
   "id": "0a5e779a",
   "metadata": {},
   "outputs": [],
   "source": [
    "print(b)"
   ]
  },
  {
   "cell_type": "code",
   "execution_count": null,
   "id": "03473a25",
   "metadata": {},
   "outputs": [],
   "source": [
    "a = a + 3"
   ]
  },
  {
   "cell_type": "code",
   "execution_count": null,
   "id": "442ffb34",
   "metadata": {},
   "outputs": [],
   "source": [
    "print(a)"
   ]
  },
  {
   "cell_type": "code",
   "execution_count": null,
   "id": "9093b870",
   "metadata": {},
   "outputs": [],
   "source": [
    "print(\"b\")"
   ]
  },
  {
   "cell_type": "code",
   "execution_count": null,
   "id": "5226788e",
   "metadata": {},
   "outputs": [],
   "source": [
    "print(\"print\")"
   ]
  },
  {
   "cell_type": "code",
   "execution_count": null,
   "id": "af9b42cb",
   "metadata": {},
   "outputs": [],
   "source": [
    "print(print)"
   ]
  },
  {
   "cell_type": "code",
   "execution_count": null,
   "id": "e5f54fb4",
   "metadata": {},
   "outputs": [],
   "source": [
    "print(1+1)"
   ]
  },
  {
   "cell_type": "code",
   "execution_count": null,
   "id": "c1786dca",
   "metadata": {},
   "outputs": [],
   "source": [
    "print(\"1 + 1\")"
   ]
  },
  {
   "cell_type": "markdown",
   "id": "cf1b75f0",
   "metadata": {},
   "source": [
    "**text**\n",
    "\n",
    "\n",
    "<b>text</b>\n",
    "aaa\n",
    "\n",
    "*text*"
   ]
  },
  {
   "cell_type": "markdown",
   "id": "3ac7a036",
   "metadata": {},
   "source": [
    "## Objectives for Session 4\n",
    "\n",
    "1. Load the browser history data from your persona\n",
    "2. Generate a report of the most frequently accessed domains\n",
    "3. Convert the timestamps (\"time_usec\") into a meaningful fields\n",
    "4. If time allows: extract one video id from a YouTube URL and connect it to a YouTube Data Tool Report (i.e., data linkage)"
   ]
  },
  {
   "cell_type": "markdown",
   "id": "b8e95486",
   "metadata": {},
   "source": [
    "### 1. Loading required libraries\n",
    "\n",
    "Python is a general programming language, which means that in principle we can build whatever program we want with it. That, of course, is not always efficient. Imagine if you have to program everything - even how to run a correlation - from scratch. This brings us to one of its advantages: In the same way as R, there is an active community of (open source) developers and volunteers that creates Python \"extensions\" (called libraries) that allow us to reuse programs from others.\n",
    "\n",
    "We will use a few of these libraries in this course, and will get introduced to them in due time. The first one that we will start using is Pandas, a data analysis library. For more information about it, see its [documentation](https://pandas.pydata.org/)."
   ]
  },
  {
   "cell_type": "markdown",
   "id": "ac1a5e91",
   "metadata": {},
   "source": [
    "To import a library, we use the command \"import\" and the library name. Usually we also provide an abbreviation for the library name, to make us more efficient. Below we are importing Pandas, and calling it as \"pd\" from now on. We will also import the library json, which helps us handle json files. Pandas itself can handle many files that are in json, but not all of them."
   ]
  },
  {
   "cell_type": "markdown",
   "id": "b3ad0d3d",
   "metadata": {},
   "source": [
    "*Note:* if you do not have pandas installed (or another library), you can use the following command one time to install it. You should not have to run it again. \n",
    "\n",
    "In some cases, you may need to click on the button \"restart\" above to restart the session for pandas (or any installed library) to work."
   ]
  },
  {
   "cell_type": "code",
   "execution_count": null,
   "id": "55a6a564",
   "metadata": {},
   "outputs": [],
   "source": [
    "%pip install pandas"
   ]
  },
  {
   "cell_type": "code",
   "execution_count": null,
   "id": "663dc9d9",
   "metadata": {},
   "outputs": [],
   "source": [
    "import pandas as pd\n",
    "\n",
    "import json"
   ]
  },
  {
   "cell_type": "markdown",
   "id": "85994fb6",
   "metadata": {},
   "source": [
    "The code below is using a command inside the json library (load) to read a file. Inside it, we are using another command (open) that is native to Python, to open the file. The result of the operation is being stored in the variable called \"data\"\n",
    "\n",
    "*Please note that this is from a sample user, not a real person*"
   ]
  },
  {
   "cell_type": "code",
   "execution_count": null,
   "id": "22ad4f70",
   "metadata": {},
   "outputs": [],
   "source": [
    "data = json.load(open(\"History.json\"))"
   ]
  },
  {
   "cell_type": "code",
   "execution_count": null,
   "id": "7f2820ff",
   "metadata": {},
   "outputs": [],
   "source": [
    "data"
   ]
  },
  {
   "cell_type": "markdown",
   "id": "482276da",
   "metadata": {},
   "source": [
    "The code below shows which keys the data has."
   ]
  },
  {
   "cell_type": "code",
   "execution_count": null,
   "id": "86e26a42",
   "metadata": {},
   "outputs": [],
   "source": [
    "data.keys()"
   ]
  },
  {
   "cell_type": "markdown",
   "id": "2a1ef58b",
   "metadata": {},
   "source": [
    "We want to know what is inside \"Browser History\", so we will visualise it briefly"
   ]
  },
  {
   "cell_type": "code",
   "execution_count": null,
   "id": "ecf72a6d",
   "metadata": {},
   "outputs": [],
   "source": [
    "data['Browser History'][:5]"
   ]
  },
  {
   "cell_type": "markdown",
   "id": "f7b9e0f3",
   "metadata": {},
   "source": [
    "Now we are converting only the Browser History data into a dataframe."
   ]
  },
  {
   "cell_type": "code",
   "execution_count": null,
   "id": "f343caf0",
   "metadata": {},
   "outputs": [],
   "source": [
    "history = pd.DataFrame(data['Browser History'])"
   ]
  },
  {
   "cell_type": "code",
   "execution_count": null,
   "id": "1e72170c",
   "metadata": {},
   "outputs": [],
   "source": [
    "history"
   ]
  },
  {
   "cell_type": "code",
   "execution_count": null,
   "id": "df4203a9",
   "metadata": {},
   "outputs": [],
   "source": [
    "len(history)"
   ]
  },
  {
   "cell_type": "markdown",
   "id": "2ebad191",
   "metadata": {},
   "source": [
    "History is interesting, but not particularly useful. Let's see a few functions that we can use to make it more useful."
   ]
  },
  {
   "cell_type": "markdown",
   "id": "100d94ab",
   "metadata": {},
   "source": [
    "First, let's extract the domain."
   ]
  },
  {
   "cell_type": "code",
   "execution_count": null,
   "id": "bf319720",
   "metadata": {},
   "outputs": [],
   "source": [
    "# If you don't have tldextract installed, run the command below to install it.\n",
    "# %pip install tldextract"
   ]
  },
  {
   "cell_type": "code",
   "execution_count": null,
   "id": "8957e632",
   "metadata": {},
   "outputs": [],
   "source": [
    "import tldextract\n",
    "def extract_domain(url):\n",
    "    result = tldextract.extract(url)\n",
    "    return result.domain"
   ]
  },
  {
   "cell_type": "markdown",
   "id": "fc9bc11d",
   "metadata": {},
   "source": [
    "The code below creates a new column called \"domain\" in the dataframe history, by applying the function \"extract_domain\" to the column \"url\""
   ]
  },
  {
   "cell_type": "code",
   "execution_count": null,
   "id": "8395525e",
   "metadata": {},
   "outputs": [],
   "source": [
    "history['domain'] = history['url'].apply(extract_domain)"
   ]
  },
  {
   "cell_type": "code",
   "execution_count": null,
   "id": "54f80f72",
   "metadata": {},
   "outputs": [],
   "source": [
    "history[:3]"
   ]
  },
  {
   "cell_type": "markdown",
   "id": "b8133e10",
   "metadata": {},
   "source": [
    "Let's check the top domains"
   ]
  },
  {
   "cell_type": "code",
   "execution_count": null,
   "id": "a5a3b22c",
   "metadata": {},
   "outputs": [],
   "source": [
    "history['domain'].value_counts()"
   ]
  },
  {
   "cell_type": "markdown",
   "id": "a2da4b8f",
   "metadata": {},
   "source": [
    "Let's now see how we can make the time_usec column useful."
   ]
  },
  {
   "cell_type": "code",
   "execution_count": null,
   "id": "ed6f48e7",
   "metadata": {},
   "outputs": [],
   "source": [
    "from datetime import datetime, timedelta, timezone\n",
    " \n",
    "def filetime_to_datetime(microseconds: int) -> datetime:\n",
    "    epoch_start = datetime(1970, 1, 1, tzinfo=timezone.utc)\n",
    "    return epoch_start + timedelta(microseconds=microseconds)"
   ]
  },
  {
   "cell_type": "code",
   "execution_count": null,
   "id": "1a234793",
   "metadata": {},
   "outputs": [],
   "source": [
    "history['date_time'] = history['time_usec'].apply(filetime_to_datetime)"
   ]
  },
  {
   "cell_type": "code",
   "execution_count": null,
   "id": "19c197ed",
   "metadata": {},
   "outputs": [],
   "source": [
    "history[:3]"
   ]
  },
  {
   "cell_type": "markdown",
   "id": "a78d3072",
   "metadata": {},
   "source": [
    "Let's extract the ids of YouTube videos in the history."
   ]
  },
  {
   "cell_type": "code",
   "execution_count": null,
   "id": "793c02df",
   "metadata": {},
   "outputs": [],
   "source": [
    "history[history['domain']=='youtube']"
   ]
  },
  {
   "cell_type": "code",
   "execution_count": null,
   "id": "93348cb3",
   "metadata": {},
   "outputs": [],
   "source": [
    "history[history['domain']=='youtube'].iloc[3]['url']"
   ]
  },
  {
   "cell_type": "markdown",
   "id": "4e550724",
   "metadata": {},
   "source": [
    "*Disclosure:* The code below was generated with the help of CoPilot."
   ]
  },
  {
   "cell_type": "code",
   "execution_count": null,
   "id": "54f9ad15",
   "metadata": {},
   "outputs": [],
   "source": [
    "def extract_youtube_video_id(url):\n",
    "    if 'youtube.com/watch?v=' in url:\n",
    "        return url.split('v=')[1].split('&')[0]\n",
    "    elif 'youtu.be/' in url:\n",
    "        return url.split('youtu.be/')[1].split('?')[0]\n",
    "    else:\n",
    "        return None\n"
   ]
  },
  {
   "cell_type": "code",
   "execution_count": null,
   "id": "9e00a185",
   "metadata": {},
   "outputs": [],
   "source": [
    "history['youtube_video_id'] = history['url'].apply(extract_youtube_video_id)"
   ]
  },
  {
   "cell_type": "code",
   "execution_count": null,
   "id": "f75a7327",
   "metadata": {},
   "outputs": [],
   "source": [
    "for url, id in history[history['domain']=='youtube'][['url','youtube_video_id']].values.tolist():\n",
    "    print(url, id)"
   ]
  },
  {
   "cell_type": "code",
   "execution_count": null,
   "id": "d356c85c",
   "metadata": {},
   "outputs": [],
   "source": [
    "history[history['domain']=='youtube'].iloc[7]"
   ]
  },
  {
   "cell_type": "code",
   "execution_count": null,
   "id": "b7cf0536",
   "metadata": {},
   "outputs": [],
   "source": [
    "history"
   ]
  },
  {
   "cell_type": "code",
   "execution_count": null,
   "id": "c30c73ed",
   "metadata": {},
   "outputs": [],
   "source": [
    "history[history['domain']=='youtube']"
   ]
  },
  {
   "cell_type": "code",
   "execution_count": null,
   "id": "bf6ee806",
   "metadata": {},
   "outputs": [],
   "source": []
  },
  {
   "cell_type": "markdown",
   "id": "94a52e34",
   "metadata": {},
   "source": []
  }
 ],
 "metadata": {
  "kernelspec": {
   "display_name": "base",
   "language": "python",
   "name": "python3"
  },
  "language_info": {
   "codemirror_mode": {
    "name": "ipython",
    "version": 3
   },
   "file_extension": ".py",
   "mimetype": "text/x-python",
   "name": "python",
   "nbconvert_exporter": "python",
   "pygments_lexer": "ipython3",
   "version": "3.11.5"
  }
 },
 "nbformat": 4,
 "nbformat_minor": 5
}
